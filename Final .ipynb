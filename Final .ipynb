{
 "cells": [
  {
   "cell_type": "markdown",
   "metadata": {},
   "source": [
    "### Prepare Environments && Import Data"
   ]
  },
  {
   "cell_type": "markdown",
   "metadata": {},
   "source": [
    "##### Source of Dataset by https://drive.google.com/file/d/1HXygNpBm3ItzXdLdOLB6FOl8GbJrsfDX/view?usp=sharing"
   ]
  },
  {
   "cell_type": "code",
   "execution_count": null,
   "metadata": {},
   "outputs": [],
   "source": [
    "import csv\n",
    "import numpy as np\n",
    "import pandas as pd\n",
    "import seaborn as sns\n",
    "import matplotlib.pyplot as plt\n",
    "%matplotlib inline\n",
    "from sklearn import datasets\n",
    "\n",
    "## import file\n",
    "\n",
    "with open('BOT_od_2018-11-02.csv', 'r') as file:\n",
    "    array = file.readlines()\n",
    "    array = [row.split(';') for row in array]"
   ]
  },
  {
   "cell_type": "code",
   "execution_count": 197,
   "metadata": {},
   "outputs": [],
   "source": [
    "## Create DF \n",
    "\n",
    "f2 = pd.DataFrame(array,index =None,columns= ['id','type_desc','kind_desc','subkind_desc','seat','weight','traveltime','km','ts1','lat1','lon1','ts2','lat2','lon2'])\n",
    "data = f2.drop(index=0)"
   ]
  },
  {
   "cell_type": "code",
   "execution_count": 198,
   "metadata": {},
   "outputs": [],
   "source": [
    "## Clearing Data & Convert Type\n",
    "\n",
    "data = data.loc[(data['seat'] != \"NULL\") \n",
    "                & (data['weight'] != \"NULL\") \n",
    "                & (data['weight'] != \"ยาง 6 เส้น                 \")\n",
    "                & (data['weight'] != \"ยาง 10 เส้น                \") \n",
    "                & (data['weight'] != \"ยาง 12 เส้น                \")]"
   ]
  },
  {
   "cell_type": "code",
   "execution_count": 199,
   "metadata": {},
   "outputs": [],
   "source": [
    "## Clearing Data & Convert Type\n",
    "\n",
    "data['id'] = data['id'].astype(int)\n",
    "data['seat'] = data['seat'].astype(int)\n",
    "data['weight'] = data['weight'].astype(int)\n",
    "data['km'] = data['km'].astype(float)\n",
    "data['ts1'] = data['ts1'].astype('datetime64[ns]')\n",
    "data['ts2'] = data['ts2'].astype('datetime64[ns]')\n",
    "data['lat1'] = data['lat1'].astype(float)\n",
    "data['lon1'] = data['lon1'].astype(float)\n",
    "data['lat2'] = data['lat2'].astype(float)\n",
    "data['lon2'] = data['lon2'].astype(float)"
   ]
  },
  {
   "cell_type": "code",
   "execution_count": 146,
   "metadata": {},
   "outputs": [],
   "source": [
    "## Clearing Data & Convert Type\n",
    "\n",
    "## NOTE....\n",
    "# Lat thai 5-20\n",
    "# Long thai 92-105 \n",
    "\n",
    "# data = data.loc[(data['lat1'] < 20) \n",
    "#                 & (data['lat1'] > 5)\n",
    "#                 & (data['lon1'] > 92)\n",
    "#                 & (data['lon1'] < 105)]"
   ]
  },
  {
   "cell_type": "markdown",
   "metadata": {},
   "source": [
    "### Problem "
   ]
  },
  {
   "cell_type": "markdown",
   "metadata": {},
   "source": [
    "###### ผู้ประกอบการปั๊มน้ำมัน ต้องการจะขยายกิจการสาขา เพิ่มในบริเวณภาคตะวันออก จึงอยากทราบปริมาณของรถที่สัญจร ในช่วงเวลา 2 สัปดาห์\n",
    "###### ช่วงเวลา ประกอบไปด้วย 2 ช่วง คือ ช่วงกลาง : 6:00 AM - 5:59 PM และ ช่วงกลางคืน 6:00 PM - 5:59 AM"
   ]
  },
  {
   "cell_type": "code",
   "execution_count": 225,
   "metadata": {},
   "outputs": [
    {
     "data": {
      "text/html": [
       "<div>\n",
       "<style scoped>\n",
       "    .dataframe tbody tr th:only-of-type {\n",
       "        vertical-align: middle;\n",
       "    }\n",
       "\n",
       "    .dataframe tbody tr th {\n",
       "        vertical-align: top;\n",
       "    }\n",
       "\n",
       "    .dataframe thead th {\n",
       "        text-align: right;\n",
       "    }\n",
       "</style>\n",
       "<table border=\"1\" class=\"dataframe\">\n",
       "  <thead>\n",
       "    <tr style=\"text-align: right;\">\n",
       "      <th></th>\n",
       "      <th>lat1</th>\n",
       "      <th>lon1</th>\n",
       "    </tr>\n",
       "    <tr>\n",
       "      <th>type_desc</th>\n",
       "      <th></th>\n",
       "      <th></th>\n",
       "    </tr>\n",
       "  </thead>\n",
       "  <tbody>\n",
       "    <tr>\n",
       "      <td>รถบรรทุกส่วนบุคคล</td>\n",
       "      <td>5.785380</td>\n",
       "      <td>97.738372</td>\n",
       "    </tr>\n",
       "    <tr>\n",
       "      <td>รถบรรทุกไม่ประจำทาง</td>\n",
       "      <td>5.771925</td>\n",
       "      <td>97.909745</td>\n",
       "    </tr>\n",
       "    <tr>\n",
       "      <td>รถโดยสารประจำทาง</td>\n",
       "      <td>5.745498</td>\n",
       "      <td>0.033333</td>\n",
       "    </tr>\n",
       "    <tr>\n",
       "      <td>รถโดยสารส่วนบุคคล</td>\n",
       "      <td>7.132375</td>\n",
       "      <td>98.293592</td>\n",
       "    </tr>\n",
       "    <tr>\n",
       "      <td>รถโดยสารไม่ประจำทาง</td>\n",
       "      <td>5.748178</td>\n",
       "      <td>0.000000</td>\n",
       "    </tr>\n",
       "  </tbody>\n",
       "</table>\n",
       "</div>"
      ],
      "text/plain": [
       "                         lat1       lon1\n",
       "type_desc                               \n",
       "รถบรรทุกส่วนบุคคล    5.785380  97.738372\n",
       "รถบรรทุกไม่ประจำทาง  5.771925  97.909745\n",
       "รถโดยสารประจำทาง     5.745498   0.033333\n",
       "รถโดยสารส่วนบุคคล    7.132375  98.293592\n",
       "รถโดยสารไม่ประจำทาง  5.748178   0.000000"
      ]
     },
     "execution_count": 225,
     "metadata": {},
     "output_type": "execute_result"
    }
   ],
   "source": [
    "carType = data.groupby(\"type_desc\")[[\"lat1\",\"lon1\"]].min()\n",
    "carType # only show type_desc"
   ]
  },
  {
   "cell_type": "markdown",
   "metadata": {},
   "source": [
    "### Select Time Preiod"
   ]
  },
  {
   "cell_type": "code",
   "execution_count": 200,
   "metadata": {},
   "outputs": [],
   "source": [
    "## Query by Time and type\n",
    "\n",
    "tDay = data[(data['ts1'] >= '2018-11-02 06:00:00') \n",
    "            & (data['ts1'] <= '2018-11-02 17:59:59')]\n",
    "#             & (data['type_desc']== \"รถโดยสารไม่ประจำทาง\")]\n",
    "\n",
    "# tDay.sort_values(by=\"id\",ascending=True).groupby(\"id\")[[\"ts1\"]].min()\n",
    "\n",
    "# len(tDay) # 76994 \n",
    "### --------------------------------------------------------------------------------------------\n",
    "\n",
    "# tNight = data[((data['ts1'] >= '2018-11-02 00:00:00') & (data['ts1'] <= '2018-11-02 05:59:59'))\n",
    "#     | ((data['ts1'] > '2018-11-02 18:00:00') & (data['ts1'] <= '2018-11-02 23:59:59'))]\n",
    "\n",
    "# tNight.sort_values(by=\"id\",ascending=True).groupby(\"id\")[[\"ts1\"]].min()\n",
    "# tNight\n",
    "\n",
    "# len(tNight) # 107487\n",
    "### --------------------------------------------------------------------------------------------\n",
    "\n",
    "# len(tDay+tNight) #341814"
   ]
  },
  {
   "cell_type": "code",
   "execution_count": 201,
   "metadata": {},
   "outputs": [],
   "source": [
    "## Reduce Attr\n",
    "\n",
    "tDay = data.drop([\"type_desc\",\"kind_desc\",\"subkind_desc\",\"seat\",\"weight\",\"traveltime\",\"km\"] ,axis=1)\n",
    "\n",
    "### --------------------------------------------------------------------------------------------\n",
    "\n",
    "# tNight = data.drop([\"type_desc\",\"kind_desc\",\"subkind_desc\",\"seat\",\"weight\",\"traveltime\",\"km\"] ,axis=1)"
   ]
  },
  {
   "cell_type": "markdown",
   "metadata": {},
   "source": [
    "### Plot Data after cleaning data "
   ]
  },
  {
   "cell_type": "code",
   "execution_count": 13,
   "metadata": {
    "collapsed": true
   },
   "outputs": [
    {
     "data": {
      "text/plain": [
       "<matplotlib.collections.PathCollection at 0x219817f0608>"
      ]
     },
     "execution_count": 13,
     "metadata": {},
     "output_type": "execute_result"
    },
    {
     "data": {
      "image/png": "[encoded data removed]",
      "text/plain": [
       "<Figure size 432x288 with 1 Axes>"
      ]
     },
     "metadata": {
      "needs_background": "light"
     },
     "output_type": "display_data"
    }
   ],
   "source": [
    "## Clustering by KMeans\n",
    "\n",
    "from sklearn.cluster import KMeans\n",
    "model = KMeans(n_clusters=8)\n",
    "model\n",
    "dataSet = tDay[['lon1','lat1']]\n",
    "model.fit(dataSet)\n",
    "model.cluster_centers_\n",
    "plt.scatter(model.cluster_centers_[:,0],model.cluster_centers_[:,1])\n",
    "sns.scatterplot(x=\"lon1\", y=\"lat1\", data=tDay)\n",
    "plt.scatter(model.cluster_centers_[:,0],model.cluster_centers_[:,1],color='.1',marker='D')"
   ]
  },
  {
   "cell_type": "code",
   "execution_count": 14,
   "metadata": {
    "collapsed": true
   },
   "outputs": [
    {
     "data": {
      "text/plain": [
       "<matplotlib.collections.PathCollection at 0x21981647ac8>"
      ]
     },
     "execution_count": 14,
     "metadata": {},
     "output_type": "execute_result"
    },
    {
     "data": {
      "image/png": "[encoded data removed]",
      "text/plain": [
       "<Figure size 432x288 with 2 Axes>"
      ]
     },
     "metadata": {
      "needs_background": "light"
     },
     "output_type": "display_data"
    }
   ],
   "source": [
    "model.labels_\n",
    "## ADD new Columns\n",
    "tDay['cluster']=model.labels_\n",
    "tDay.plot.scatter(x = 'lon1', y = 'lat1', c='cluster', s=50, cmap='viridis')\n",
    "plt.scatter(model.cluster_centers_[:,0],model.cluster_centers_[:,1], c='black', s=200, alpha=0.9)"
   ]
  },
  {
   "cell_type": "code",
   "execution_count": 15,
   "metadata": {
    "collapsed": true
   },
   "outputs": [
    {
     "data": {
      "text/plain": [
       "2    166306\n",
       "6     59094\n",
       "1     39614\n",
       "7     17874\n",
       "3     17740\n",
       "0     15252\n",
       "4     15171\n",
       "5     10763\n",
       "Name: cluster, dtype: int64"
      ]
     },
     "execution_count": 15,
     "metadata": {},
     "output_type": "execute_result"
    }
   ],
   "source": [
    "tDay['cluster'].value_counts()"
   ]
  },
  {
   "cell_type": "code",
   "execution_count": 62,
   "metadata": {
    "collapsed": true
   },
   "outputs": [
    {
     "data": {
      "text/html": [
       "<div>\n",
       "<style scoped>\n",
       "    .dataframe tbody tr th:only-of-type {\n",
       "        vertical-align: middle;\n",
       "    }\n",
       "\n",
       "    .dataframe tbody tr th {\n",
       "        vertical-align: top;\n",
       "    }\n",
       "\n",
       "    .dataframe thead th {\n",
       "        text-align: right;\n",
       "    }\n",
       "</style>\n",
       "<table border=\"1\" class=\"dataframe\">\n",
       "  <thead>\n",
       "    <tr style=\"text-align: right;\">\n",
       "      <th></th>\n",
       "      <th>id</th>\n",
       "      <th>ts1</th>\n",
       "      <th>lat1</th>\n",
       "      <th>lon1</th>\n",
       "      <th>ts2</th>\n",
       "      <th>lat2</th>\n",
       "      <th>lon2</th>\n",
       "      <th>cluster</th>\n",
       "    </tr>\n",
       "  </thead>\n",
       "  <tbody>\n",
       "    <tr>\n",
       "      <td>47966</td>\n",
       "      <td>89787</td>\n",
       "      <td>2018-11-02 06:00:54</td>\n",
       "      <td>13.460428</td>\n",
       "      <td>101.055922</td>\n",
       "      <td>2018-11-02 06:12:01</td>\n",
       "      <td>13.408113</td>\n",
       "      <td>101.001288</td>\n",
       "      <td>7</td>\n",
       "    </tr>\n",
       "    <tr>\n",
       "      <td>47968</td>\n",
       "      <td>209737</td>\n",
       "      <td>2018-11-02 06:01:52</td>\n",
       "      <td>13.667333</td>\n",
       "      <td>102.540000</td>\n",
       "      <td>2018-11-02 06:11:57</td>\n",
       "      <td>13.663500</td>\n",
       "      <td>102.548167</td>\n",
       "      <td>7</td>\n",
       "    </tr>\n",
       "    <tr>\n",
       "      <td>48546</td>\n",
       "      <td>120206</td>\n",
       "      <td>2018-11-02 06:02:12</td>\n",
       "      <td>12.694604</td>\n",
       "      <td>101.221314</td>\n",
       "      <td>2018-11-02 06:15:59</td>\n",
       "      <td>12.695744</td>\n",
       "      <td>101.250504</td>\n",
       "      <td>7</td>\n",
       "    </tr>\n",
       "    <tr>\n",
       "      <td>48554</td>\n",
       "      <td>183074</td>\n",
       "      <td>2018-11-02 06:05:29</td>\n",
       "      <td>13.377776</td>\n",
       "      <td>101.016502</td>\n",
       "      <td>2018-11-02 06:15:34</td>\n",
       "      <td>13.382216</td>\n",
       "      <td>101.018745</td>\n",
       "      <td>7</td>\n",
       "    </tr>\n",
       "    <tr>\n",
       "      <td>48580</td>\n",
       "      <td>222483</td>\n",
       "      <td>2018-11-02 06:01:32</td>\n",
       "      <td>12.883755</td>\n",
       "      <td>100.880026</td>\n",
       "      <td>2018-11-02 06:12:50</td>\n",
       "      <td>12.881241</td>\n",
       "      <td>100.882100</td>\n",
       "      <td>7</td>\n",
       "    </tr>\n",
       "    <tr>\n",
       "      <td>...</td>\n",
       "      <td>...</td>\n",
       "      <td>...</td>\n",
       "      <td>...</td>\n",
       "      <td>...</td>\n",
       "      <td>...</td>\n",
       "      <td>...</td>\n",
       "      <td>...</td>\n",
       "      <td>...</td>\n",
       "    </tr>\n",
       "    <tr>\n",
       "      <td>605516</td>\n",
       "      <td>121996</td>\n",
       "      <td>2018-11-02 06:12:52</td>\n",
       "      <td>12.575528</td>\n",
       "      <td>99.911078</td>\n",
       "      <td>2018-11-02 06:26:03</td>\n",
       "      <td>12.640856</td>\n",
       "      <td>99.948752</td>\n",
       "      <td>7</td>\n",
       "    </tr>\n",
       "    <tr>\n",
       "      <td>605534</td>\n",
       "      <td>79258</td>\n",
       "      <td>2018-11-02 16:07:18</td>\n",
       "      <td>13.433860</td>\n",
       "      <td>101.044030</td>\n",
       "      <td>2018-11-02 16:31:12</td>\n",
       "      <td>13.437610</td>\n",
       "      <td>101.026580</td>\n",
       "      <td>7</td>\n",
       "    </tr>\n",
       "    <tr>\n",
       "      <td>605573</td>\n",
       "      <td>104039</td>\n",
       "      <td>2018-11-02 07:55:31</td>\n",
       "      <td>13.039686</td>\n",
       "      <td>101.123386</td>\n",
       "      <td>2018-11-10 10:13:43</td>\n",
       "      <td>13.111126</td>\n",
       "      <td>100.948750</td>\n",
       "      <td>7</td>\n",
       "    </tr>\n",
       "    <tr>\n",
       "      <td>605583</td>\n",
       "      <td>61045</td>\n",
       "      <td>2018-11-02 10:46:39</td>\n",
       "      <td>13.435841</td>\n",
       "      <td>101.017269</td>\n",
       "      <td>2018-11-02 11:30:51</td>\n",
       "      <td>13.445079</td>\n",
       "      <td>101.109910</td>\n",
       "      <td>7</td>\n",
       "    </tr>\n",
       "    <tr>\n",
       "      <td>605661</td>\n",
       "      <td>210658</td>\n",
       "      <td>2018-11-02 11:03:17</td>\n",
       "      <td>12.753533</td>\n",
       "      <td>100.901806</td>\n",
       "      <td>2018-12-01 03:04:23</td>\n",
       "      <td>12.753098</td>\n",
       "      <td>100.901178</td>\n",
       "      <td>7</td>\n",
       "    </tr>\n",
       "  </tbody>\n",
       "</table>\n",
       "<p>17707 rows × 8 columns</p>\n",
       "</div>"
      ],
      "text/plain": [
       "            id                 ts1       lat1        lon1                 ts2  \\\n",
       "47966    89787 2018-11-02 06:00:54  13.460428  101.055922 2018-11-02 06:12:01   \n",
       "47968   209737 2018-11-02 06:01:52  13.667333  102.540000 2018-11-02 06:11:57   \n",
       "48546   120206 2018-11-02 06:02:12  12.694604  101.221314 2018-11-02 06:15:59   \n",
       "48554   183074 2018-11-02 06:05:29  13.377776  101.016502 2018-11-02 06:15:34   \n",
       "48580   222483 2018-11-02 06:01:32  12.883755  100.880026 2018-11-02 06:12:50   \n",
       "...        ...                 ...        ...         ...                 ...   \n",
       "605516  121996 2018-11-02 06:12:52  12.575528   99.911078 2018-11-02 06:26:03   \n",
       "605534   79258 2018-11-02 16:07:18  13.433860  101.044030 2018-11-02 16:31:12   \n",
       "605573  104039 2018-11-02 07:55:31  13.039686  101.123386 2018-11-10 10:13:43   \n",
       "605583   61045 2018-11-02 10:46:39  13.435841  101.017269 2018-11-02 11:30:51   \n",
       "605661  210658 2018-11-02 11:03:17  12.753533  100.901806 2018-12-01 03:04:23   \n",
       "\n",
       "             lat2        lon2  cluster  \n",
       "47966   13.408113  101.001288        7  \n",
       "47968   13.663500  102.548167        7  \n",
       "48546   12.695744  101.250504        7  \n",
       "48554   13.382216  101.018745        7  \n",
       "48580   12.881241  100.882100        7  \n",
       "...           ...         ...      ...  \n",
       "605516  12.640856   99.948752        7  \n",
       "605534  13.437610  101.026580        7  \n",
       "605573  13.111126  100.948750        7  \n",
       "605583  13.445079  101.109910        7  \n",
       "605661  12.753098  100.901178        7  \n",
       "\n",
       "[17707 rows x 8 columns]"
      ]
     },
     "execution_count": 62,
     "metadata": {},
     "output_type": "execute_result"
    }
   ],
   "source": [
    "tDay.loc[(tDay['cluster'] == 7)]"
   ]
  },
  {
   "cell_type": "markdown",
   "metadata": {},
   "source": [
    "### Before Test\n",
    "\n",
    "#### Select Only ' East Area '"
   ]
  },
  {
   "cell_type": "code",
   "execution_count": 202,
   "metadata": {},
   "outputs": [],
   "source": [
    "## Area EAST\n",
    "\n",
    "# rydaa = tDay.loc[tDay['cluster']==6]\n",
    "rydaa = tDay.loc[(tDay['lat1']>12)&(tDay['lon1']<103)& (tDay['lat1']<14)&(tDay['lon1']>100.7)]\n",
    "# rydaa = rydaa.loc[(rydaa['lat1']>12)&(rydaa['lon1']<103)& (rydaa['lat1']<14)&(rydaa['lon1']>100.7)]\n",
    "# sns.scatterplot(x=\"lon1\", y=\"lat1\", data=rydaa)"
   ]
  },
  {
   "cell_type": "code",
   "execution_count": 203,
   "metadata": {},
   "outputs": [
    {
     "data": {
      "text/plain": [
       "array([[102.22874566,  13.01824769],\n",
       "       [100.94429967,  13.65108222],\n",
       "       [101.04101538,  12.97915063]])"
      ]
     },
     "execution_count": 203,
     "metadata": {},
     "output_type": "execute_result"
    }
   ],
   "source": [
    "from sklearn.cluster import KMeans\n",
    "modelEast = KMeans(n_clusters=3)\n",
    "dataSet = rydaa[['lon1','lat1']]\n",
    "modelEast.fit(dataSet)\n",
    "modelEast.cluster_centers_\n",
    "# plt.scatter(modelEast.cluster_centers_[:,0],modelEast.cluster_centers_[:,1])\n",
    "# sns.scatterplot(x=\"lon1\", y=\"lat1\", data=rydaa)\n",
    "# plt.scatter(modelEast.cluster_centers_[:,0],modelEast.cluster_centers_[:,1],color='.1',marker='D')"
   ]
  },
  {
   "cell_type": "code",
   "execution_count": 221,
   "metadata": {},
   "outputs": [],
   "source": [
    "rydaa['cluster_AMP']=modelEast.labels_"
   ]
  },
  {
   "cell_type": "code",
   "execution_count": 206,
   "metadata": {
    "scrolled": true
   },
   "outputs": [
    {
     "data": {
      "text/plain": [
       "<matplotlib.collections.PathCollection at 0x28f29dae108>"
      ]
     },
     "execution_count": 206,
     "metadata": {},
     "output_type": "execute_result"
    },
    {
     "data": {
      "image/png": "[encoded data removed]",
      "text/plain": [
       "<Figure size 432x288 with 2 Axes>"
      ]
     },
     "metadata": {
      "needs_background": "light"
     },
     "output_type": "display_data"
    }
   ],
   "source": [
    "rydaa.plot.scatter(x = 'lon1', y = 'lat1', c='cluster_AMP', s=50, cmap='viridis')\n",
    "plt.scatter(modelEast.cluster_centers_[:,0],modelEast.cluster_centers_[:,1], c='black', s=200, alpha=0.9)"
   ]
  },
  {
   "cell_type": "markdown",
   "metadata": {},
   "source": [
    "### Start Test"
   ]
  },
  {
   "cell_type": "markdown",
   "metadata": {},
   "source": [
    "###### chang area : Focus Area"
   ]
  },
  {
   "cell_type": "code",
   "execution_count": 207,
   "metadata": {},
   "outputs": [],
   "source": [
    "ccsdata = rydaa.loc[rydaa['cluster_AMP']==1] #CCS\n",
    "# cbdata = rydaa.loc[rydaa['cluster_AMP']==2] #CB\n",
    "# rydata = rydaa.loc[rydaa['cluster_AMP']==2] #RY"
   ]
  },
  {
   "cell_type": "markdown",
   "metadata": {},
   "source": [
    "### Import Data for clustering with Focus Area"
   ]
  },
  {
   "cell_type": "code",
   "execution_count": 208,
   "metadata": {},
   "outputs": [
    {
     "data": {
      "text/plain": [
       "KMeans(algorithm='auto', copy_x=True, init='k-means++', max_iter=300,\n",
       "       n_clusters=8, n_init=10, n_jobs=None, precompute_distances='auto',\n",
       "       random_state=None, tol=0.0001, verbose=0)"
      ]
     },
     "execution_count": 208,
     "metadata": {},
     "output_type": "execute_result"
    }
   ],
   "source": [
    "## Import province\n",
    "\n",
    "df = pd.read_csv (r'C:\\Users\\61601198\\Desktop\\Python\\mapRoad\\tambon.csv')\n",
    "df = df.dropna()\n",
    "ry = df.loc[(df['CHANGWAT_E']=='Rayong')]\n",
    "\n",
    "# cb = df.loc[(df['CHANGWAT_E']=='Chon Buri')]\n",
    "\n",
    "# ccs = df.loc[(df['CHANGWAT_E']=='Chanthaburi')]\n",
    "\n",
    "\n",
    "\n",
    "modelTest = KMeans(n_clusters=8)\n",
    "dataSet = ry[['LONG','LAT']]\n",
    "\n",
    "# modelTest = KMeans(n_clusters=11)\n",
    "# dataSet = cb[['LONG','LAT']]\n",
    "\n",
    "# modelTest = KMeans(n_clusters=10)\n",
    "# dataSet = ccs[['LONG','LAT']]\n",
    "\n",
    "modelTest.fit(dataSet)"
   ]
  },
  {
   "cell_type": "code",
   "execution_count": 209,
   "metadata": {},
   "outputs": [
    {
     "data": {
      "text/plain": [
       "array([[101.09666667,  12.80483333],\n",
       "       [101.472875  ,  12.653625  ],\n",
       "       [101.647     ,  12.61733333],\n",
       "       [101.57355556,  12.93733333],\n",
       "       [101.24433333,  12.98433333],\n",
       "       [101.21661538,  12.68623077],\n",
       "       [101.35677778,  12.79544444],\n",
       "       [101.7106    ,  12.7855    ]])"
      ]
     },
     "execution_count": 209,
     "metadata": {},
     "output_type": "execute_result"
    }
   ],
   "source": [
    "modelTest.cluster_centers_"
   ]
  },
  {
   "cell_type": "code",
   "execution_count": 210,
   "metadata": {},
   "outputs": [
    {
     "data": {
      "text/plain": [
       "<matplotlib.collections.PathCollection at 0x28f3a0ff908>"
      ]
     },
     "execution_count": 210,
     "metadata": {},
     "output_type": "execute_result"
    },
    {
     "data": {
      "image/png": "[encoded data removed]",
      "text/plain": [
       "<Figure size 432x288 with 1 Axes>"
      ]
     },
     "metadata": {
      "needs_background": "light"
     },
     "output_type": "display_data"
    }
   ],
   "source": [
    "plt.scatter(modelTest.cluster_centers_[:,0],modelTest.cluster_centers_[:,1])"
   ]
  },
  {
   "cell_type": "code",
   "execution_count": 211,
   "metadata": {},
   "outputs": [
    {
     "data": {
      "text/plain": [
       "<matplotlib.collections.PathCollection at 0x28f3b3a5f48>"
      ]
     },
     "execution_count": 211,
     "metadata": {},
     "output_type": "execute_result"
    },
    {
     "data": {
      "image/png": "[encoded data removed]",
      "text/plain": [
       "<Figure size 432x288 with 1 Axes>"
      ]
     },
     "metadata": {
      "needs_background": "light"
     },
     "output_type": "display_data"
    }
   ],
   "source": [
    "sns.scatterplot(x=\"LONG\", y=\"LAT\", data=ry)\n",
    "# sns.scatterplot(x=\"LONG\", y=\"LAT\", data=cb)\n",
    "# sns.scatterplot(x=\"LONG\", y=\"LAT\", data=ccs)\n",
    "\n",
    "plt.scatter(modelTest.cluster_centers_[:,0],modelTest.cluster_centers_[:,1],color='.1',marker='D')"
   ]
  },
  {
   "cell_type": "code",
   "execution_count": 222,
   "metadata": {},
   "outputs": [],
   "source": [
    "ry['cluster']=modelTest.labels_\n",
    "\n",
    "\n",
    "# cb['cluster']=modelTest.labels_\n",
    "# cb\n",
    "\n",
    "# ccs['cluster']=modelTest.labels_\n",
    "# ccs"
   ]
  },
  {
   "cell_type": "code",
   "execution_count": 213,
   "metadata": {},
   "outputs": [
    {
     "data": {
      "text/plain": [
       "<matplotlib.collections.PathCollection at 0x28f1c171608>"
      ]
     },
     "execution_count": 213,
     "metadata": {},
     "output_type": "execute_result"
    },
    {
     "data": {
      "image/png": "[encoded data removed]",
      "text/plain": [
       "<Figure size 432x288 with 2 Axes>"
      ]
     },
     "metadata": {
      "needs_background": "light"
     },
     "output_type": "display_data"
    }
   ],
   "source": [
    "ry.plot.scatter(x = 'LONG', y = 'LAT', c='cluster', s=50, cmap='viridis')\n",
    "plt.scatter(modelTest.cluster_centers_[:,0],modelTest.cluster_centers_[:,1], c='black', s=200, alpha=0.9)\n",
    "\n",
    "# cb.plot.scatter(x = 'LONG', y = 'LAT', c='cluster', s=50, cmap='viridis')\n",
    "# plt.scatter(modelTest.cluster_centers_[:,0],modelTest.cluster_centers_[:,1], c='black', s=200, alpha=0.9)\n",
    "\n",
    "# ccs.plot.scatter(x = 'LONG', y = 'LAT', c='cluster', s=50, cmap='viridis')\n",
    "# plt.scatter(modelTest.cluster_centers_[:,0],modelTest.cluster_centers_[:,1], c='black', s=200, alpha=0.9)"
   ]
  },
  {
   "cell_type": "code",
   "execution_count": 214,
   "metadata": {},
   "outputs": [
    {
     "data": {
      "text/html": [
       "<div>\n",
       "<style scoped>\n",
       "    .dataframe tbody tr th:only-of-type {\n",
       "        vertical-align: middle;\n",
       "    }\n",
       "\n",
       "    .dataframe tbody tr th {\n",
       "        vertical-align: top;\n",
       "    }\n",
       "\n",
       "    .dataframe thead th {\n",
       "        text-align: right;\n",
       "    }\n",
       "</style>\n",
       "<table border=\"1\" class=\"dataframe\">\n",
       "  <thead>\n",
       "    <tr style=\"text-align: right;\">\n",
       "      <th>cluster</th>\n",
       "      <th>0</th>\n",
       "      <th>1</th>\n",
       "      <th>2</th>\n",
       "      <th>3</th>\n",
       "      <th>4</th>\n",
       "      <th>5</th>\n",
       "      <th>6</th>\n",
       "      <th>7</th>\n",
       "    </tr>\n",
       "    <tr>\n",
       "      <th>AMPHOE_E</th>\n",
       "      <th></th>\n",
       "      <th></th>\n",
       "      <th></th>\n",
       "      <th></th>\n",
       "      <th></th>\n",
       "      <th></th>\n",
       "      <th></th>\n",
       "      <th></th>\n",
       "    </tr>\n",
       "  </thead>\n",
       "  <tbody>\n",
       "    <tr>\n",
       "      <td>Ban Chang</td>\n",
       "      <td>3</td>\n",
       "      <td>0</td>\n",
       "      <td>0</td>\n",
       "      <td>0</td>\n",
       "      <td>0</td>\n",
       "      <td>0</td>\n",
       "      <td>0</td>\n",
       "      <td>0</td>\n",
       "    </tr>\n",
       "    <tr>\n",
       "      <td>Ban Khai</td>\n",
       "      <td>0</td>\n",
       "      <td>0</td>\n",
       "      <td>0</td>\n",
       "      <td>0</td>\n",
       "      <td>0</td>\n",
       "      <td>1</td>\n",
       "      <td>6</td>\n",
       "      <td>0</td>\n",
       "    </tr>\n",
       "    <tr>\n",
       "      <td>Khao Chamao</td>\n",
       "      <td>0</td>\n",
       "      <td>0</td>\n",
       "      <td>0</td>\n",
       "      <td>3</td>\n",
       "      <td>0</td>\n",
       "      <td>0</td>\n",
       "      <td>0</td>\n",
       "      <td>1</td>\n",
       "    </tr>\n",
       "    <tr>\n",
       "      <td>Klaeng</td>\n",
       "      <td>0</td>\n",
       "      <td>3</td>\n",
       "      <td>6</td>\n",
       "      <td>2</td>\n",
       "      <td>0</td>\n",
       "      <td>0</td>\n",
       "      <td>0</td>\n",
       "      <td>9</td>\n",
       "    </tr>\n",
       "    <tr>\n",
       "      <td>Mueang Rayong</td>\n",
       "      <td>0</td>\n",
       "      <td>5</td>\n",
       "      <td>0</td>\n",
       "      <td>0</td>\n",
       "      <td>0</td>\n",
       "      <td>11</td>\n",
       "      <td>3</td>\n",
       "      <td>0</td>\n",
       "    </tr>\n",
       "    <tr>\n",
       "      <td>Nikhom Phatthana</td>\n",
       "      <td>3</td>\n",
       "      <td>0</td>\n",
       "      <td>0</td>\n",
       "      <td>0</td>\n",
       "      <td>0</td>\n",
       "      <td>1</td>\n",
       "      <td>0</td>\n",
       "      <td>0</td>\n",
       "    </tr>\n",
       "    <tr>\n",
       "      <td>Pluak Daeng</td>\n",
       "      <td>0</td>\n",
       "      <td>0</td>\n",
       "      <td>0</td>\n",
       "      <td>0</td>\n",
       "      <td>6</td>\n",
       "      <td>0</td>\n",
       "      <td>0</td>\n",
       "      <td>0</td>\n",
       "    </tr>\n",
       "    <tr>\n",
       "      <td>Wang Chan</td>\n",
       "      <td>0</td>\n",
       "      <td>0</td>\n",
       "      <td>0</td>\n",
       "      <td>4</td>\n",
       "      <td>0</td>\n",
       "      <td>0</td>\n",
       "      <td>0</td>\n",
       "      <td>0</td>\n",
       "    </tr>\n",
       "  </tbody>\n",
       "</table>\n",
       "</div>"
      ],
      "text/plain": [
       "cluster           0  1  2  3  4   5  6  7\n",
       "AMPHOE_E                                 \n",
       "Ban Chang         3  0  0  0  0   0  0  0\n",
       "Ban Khai          0  0  0  0  0   1  6  0\n",
       "Khao Chamao       0  0  0  3  0   0  0  1\n",
       "Klaeng            0  3  6  2  0   0  0  9\n",
       "Mueang Rayong     0  5  0  0  0  11  3  0\n",
       "Nikhom Phatthana  3  0  0  0  0   1  0  0\n",
       "Pluak Daeng       0  0  0  0  6   0  0  0\n",
       "Wang Chan         0  0  0  4  0   0  0  0"
      ]
     },
     "execution_count": 214,
     "metadata": {},
     "output_type": "execute_result"
    }
   ],
   "source": [
    "pd.crosstab(ry['AMPHOE_E'],ry['cluster'])\n",
    "\n",
    "# pd.crosstab(cb['AMPHOE_E'],cb['cluster'])\n",
    "\n",
    "# pd.crosstab(ccs['AMPHOE_E'],ccs['cluster'])"
   ]
  },
  {
   "cell_type": "code",
   "execution_count": 220,
   "metadata": {},
   "outputs": [
    {
     "data": {
      "text/plain": [
       "cluster\n",
       "0      Ban Chang\n",
       "1         Klaeng\n",
       "2         Klaeng\n",
       "3    Khao Chamao\n",
       "4    Pluak Daeng\n",
       "5       Ban Khai\n",
       "6       Ban Khai\n",
       "7    Khao Chamao\n",
       "Name: AMPHOE_E, dtype: object"
      ]
     },
     "execution_count": 220,
     "metadata": {},
     "output_type": "execute_result"
    }
   ],
   "source": [
    "ry.groupby('cluster')['AMPHOE_E'].agg(pd.Series.mode)\n",
    "\n",
    "# cb.groupby('cluster')['AMPHOE_E'].agg(pd.Series.mode)\n",
    "\n",
    "# ccs.groupby('cluster')['AMPHOE_E'].agg(pd.Series.mode)"
   ]
  },
  {
   "cell_type": "markdown",
   "metadata": {},
   "source": [
    "### After Create Model by Focus Area\n",
    "##### Next Predict via Data after cleaning at top before..."
   ]
  },
  {
   "cell_type": "code",
   "execution_count": 218,
   "metadata": {},
   "outputs": [
    {
     "data": {
      "text/plain": [
       "Counter({0: 17000, 4: 16951, 5: 3976, 6: 735, 3: 229, 1: 546, 7: 134, 2: 83})"
      ]
     },
     "execution_count": 218,
     "metadata": {},
     "output_type": "execute_result"
    }
   ],
   "source": [
    "## Predict\n",
    "\n",
    "import collections\n",
    "result = modelTest.predict(\n",
    "#     cbdata[['lon1','lat1']].values\n",
    "#     ccsdata[['lon1','lat1']].values\n",
    "    rydata[['lon1','lat1']].values\n",
    "    \n",
    ")\n",
    "collections.Counter(result)"
   ]
  }
 ],
 "metadata": {
  "kernelspec": {
   "display_name": "Python 3",
   "language": "python",
   "name": "python3"
  },
  "language_info": {
   "codemirror_mode": {
    "name": "ipython",
    "version": 3
   },
   "file_extension": ".py",
   "mimetype": "text/x-python",
   "name": "python",
   "nbconvert_exporter": "python",
   "pygments_lexer": "ipython3",
   "version": "3.7.4"
  }
 },
 "nbformat": 4,
 "nbformat_minor": 2
}
